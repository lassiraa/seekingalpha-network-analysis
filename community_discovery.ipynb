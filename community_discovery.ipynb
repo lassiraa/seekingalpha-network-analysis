{
 "cells": [
  {
   "cell_type": "markdown",
   "id": "2d038d4e",
   "metadata": {},
   "source": [
    "# Community detection for SA network"
   ]
  },
  {
   "cell_type": "code",
   "execution_count": 1,
   "id": "5f4a026b",
   "metadata": {},
   "outputs": [],
   "source": [
    "import networkx as nx\n",
    "import numpy as np\n",
    "import pandas as pd\n",
    "import matplotlib.pyplot as plt\n",
    "from demon import Demon\n",
    "from community import community_louvain\n",
    "from networkx.algorithms.community import k_clique_communities"
   ]
  },
  {
   "cell_type": "code",
   "execution_count": 2,
   "id": "e1c58f23",
   "metadata": {},
   "outputs": [],
   "source": [
    "G = nx.read_gexf('SA.gexf')"
   ]
  },
  {
   "cell_type": "code",
   "execution_count": 3,
   "id": "99f1f857",
   "metadata": {},
   "outputs": [
    {
     "data": {
      "text/html": [
       "<div>\n",
       "<style scoped>\n",
       "    .dataframe tbody tr th:only-of-type {\n",
       "        vertical-align: middle;\n",
       "    }\n",
       "\n",
       "    .dataframe tbody tr th {\n",
       "        vertical-align: top;\n",
       "    }\n",
       "\n",
       "    .dataframe thead th {\n",
       "        text-align: right;\n",
       "    }\n",
       "</style>\n",
       "<table border=\"1\" class=\"dataframe\">\n",
       "  <thead>\n",
       "    <tr style=\"text-align: right;\">\n",
       "      <th></th>\n",
       "      <th>sector</th>\n",
       "      <th>market_cap</th>\n",
       "      <th>ebitda</th>\n",
       "      <th>label</th>\n",
       "    </tr>\n",
       "  </thead>\n",
       "  <tbody>\n",
       "    <tr>\n",
       "      <th>ARNA</th>\n",
       "      <td>Healthcare</td>\n",
       "      <td>5763631104</td>\n",
       "      <td>-541788992</td>\n",
       "      <td>ARNA</td>\n",
       "    </tr>\n",
       "    <tr>\n",
       "      <th>STLD</th>\n",
       "      <td>Basic Materials</td>\n",
       "      <td>14363883520</td>\n",
       "      <td>4648757760</td>\n",
       "      <td>STLD</td>\n",
       "    </tr>\n",
       "    <tr>\n",
       "      <th>X</th>\n",
       "      <td>Basic Materials</td>\n",
       "      <td>8431269376</td>\n",
       "      <td>5389000192</td>\n",
       "      <td>X</td>\n",
       "    </tr>\n",
       "    <tr>\n",
       "      <th>FB</th>\n",
       "      <td>Communication Services</td>\n",
       "      <td>521496559616</td>\n",
       "      <td>54720000000</td>\n",
       "      <td>FB</td>\n",
       "    </tr>\n",
       "    <tr>\n",
       "      <th>GRPN</th>\n",
       "      <td>Communication Services</td>\n",
       "      <td>502526784</td>\n",
       "      <td>54038000</td>\n",
       "      <td>GRPN</td>\n",
       "    </tr>\n",
       "    <tr>\n",
       "      <th>...</th>\n",
       "      <td>...</td>\n",
       "      <td>...</td>\n",
       "      <td>...</td>\n",
       "      <td>...</td>\n",
       "    </tr>\n",
       "    <tr>\n",
       "      <th>WERN</th>\n",
       "      <td>Industrials</td>\n",
       "      <td>2851277824</td>\n",
       "      <td>572675904</td>\n",
       "      <td>WERN</td>\n",
       "    </tr>\n",
       "    <tr>\n",
       "      <th>MSN</th>\n",
       "      <td>Technology</td>\n",
       "      <td>15209664</td>\n",
       "      <td>-3468500</td>\n",
       "      <td>MSN</td>\n",
       "    </tr>\n",
       "    <tr>\n",
       "      <th>SAVA</th>\n",
       "      <td>Healthcare</td>\n",
       "      <td>1422597248</td>\n",
       "      <td>-20826000</td>\n",
       "      <td>SAVA</td>\n",
       "    </tr>\n",
       "    <tr>\n",
       "      <th>DRRX</th>\n",
       "      <td>Healthcare</td>\n",
       "      <td>136503600</td>\n",
       "      <td>-35900000</td>\n",
       "      <td>DRRX</td>\n",
       "    </tr>\n",
       "    <tr>\n",
       "      <th>HMY</th>\n",
       "      <td>Basic Materials</td>\n",
       "      <td>3274743552</td>\n",
       "      <td>11114000384</td>\n",
       "      <td>HMY</td>\n",
       "    </tr>\n",
       "  </tbody>\n",
       "</table>\n",
       "<p>1879 rows × 4 columns</p>\n",
       "</div>"
      ],
      "text/plain": [
       "                      sector    market_cap       ebitda label\n",
       "ARNA              Healthcare    5763631104   -541788992  ARNA\n",
       "STLD         Basic Materials   14363883520   4648757760  STLD\n",
       "X            Basic Materials    8431269376   5389000192     X\n",
       "FB    Communication Services  521496559616  54720000000    FB\n",
       "GRPN  Communication Services     502526784     54038000  GRPN\n",
       "...                      ...           ...          ...   ...\n",
       "WERN             Industrials    2851277824    572675904  WERN\n",
       "MSN               Technology      15209664     -3468500   MSN\n",
       "SAVA              Healthcare    1422597248    -20826000  SAVA\n",
       "DRRX              Healthcare     136503600    -35900000  DRRX\n",
       "HMY          Basic Materials    3274743552  11114000384   HMY\n",
       "\n",
       "[1879 rows x 4 columns]"
      ]
     },
     "execution_count": 3,
     "metadata": {},
     "output_type": "execute_result"
    }
   ],
   "source": [
    "nodes_df = pd.DataFrame.from_dict(data=dict(G.nodes(data=True)), orient='index')\n",
    "nodes_df"
   ]
  },
  {
   "cell_type": "code",
   "execution_count": 4,
   "id": "cce37757",
   "metadata": {},
   "outputs": [],
   "source": [
    "#pos = nx.spring_layout(G)"
   ]
  },
  {
   "cell_type": "code",
   "execution_count": 5,
   "id": "42c7d637",
   "metadata": {},
   "outputs": [
    {
     "name": "stderr",
     "output_type": "stream",
     "text": [
      "Exec: 100%|████████████████████████"
     ]
    },
    {
     "name": "stdout",
     "output_type": "stream",
     "text": [
      "Time:  'execute' 0.47 sec\n",
      "------------------------------------\n"
     ]
    },
    {
     "name": "stderr",
     "output_type": "stream",
     "text": [
      "\n"
     ]
    }
   ],
   "source": [
    "demon_communities = Demon(graph=G, epsilon=0.25, min_community_size=3).execute()"
   ]
  },
  {
   "cell_type": "code",
   "execution_count": 6,
   "id": "da3cb339",
   "metadata": {},
   "outputs": [],
   "source": [
    "node_to_com = {node: None for node in G.nodes()}\n",
    "max_demon_com = 0\n",
    "demon_com_size_total = 0\n",
    "demon_coms = len(demon_communities)\n",
    "for i, com in enumerate(demon_communities):\n",
    "    com_len = len(com)\n",
    "    if com_len > max_demon_com:\n",
    "        max_demon_com = com_len\n",
    "    demon_com_size_total += com_len\n",
    "    for node in com:\n",
    "        node_to_com[node] = i+1\n",
    "nx.set_node_attributes(G, node_to_com, 'demon_community')"
   ]
  },
  {
   "cell_type": "code",
   "execution_count": 7,
   "id": "fae57953",
   "metadata": {},
   "outputs": [],
   "source": [
    "k_cliqs = k_clique_communities(G, 3)"
   ]
  },
  {
   "cell_type": "code",
   "execution_count": 8,
   "id": "af26ec3d",
   "metadata": {},
   "outputs": [],
   "source": [
    "cliq_size_total = 0\n",
    "cliqs = 0\n",
    "k_cliq_comms = []\n",
    "max_cliq = 0\n",
    "for cliq in k_cliqs:\n",
    "    if len(cliq) > max_cliq:\n",
    "        max_cliq = len(cliq)\n",
    "    k_cliq_comms.append(list(cliq))\n",
    "    cliq_size_total += len(cliq)\n",
    "    cliqs += 1\n",
    "mean_cliq_size = cliq_size_total / cliqs\n",
    "k_cliq_comms = sorted(k_cliq_comms, key=len, reverse=True)\n",
    "demon_communities = sorted(demon_communities, key=len, reverse=True)"
   ]
  },
  {
   "cell_type": "code",
   "execution_count": 9,
   "id": "9d25ca9c",
   "metadata": {},
   "outputs": [],
   "source": [
    "louvain_comms = community_louvain.best_partition(G)\n",
    "nx.set_node_attributes(G, louvain_comms, 'louvain_community')"
   ]
  },
  {
   "cell_type": "code",
   "execution_count": 10,
   "id": "4590c3ac",
   "metadata": {},
   "outputs": [],
   "source": [
    "def plot_sector_value_counts(nodes_df, subset=None):\n",
    "    subset = nodes_df.index if subset is None else subset\n",
    "    nodes_df.loc[subset]['sector'].value_counts().plot(kind='barh')"
   ]
  },
  {
   "cell_type": "code",
   "execution_count": 11,
   "id": "47865be2",
   "metadata": {},
   "outputs": [
    {
     "data": {
      "image/png": "[encoded data removed]",
      "text/plain": [
       "<Figure size 432x288 with 1 Axes>"
      ]
     },
     "metadata": {
      "needs_background": "light"
     },
     "output_type": "display_data"
    }
   ],
   "source": [
    "plot_sector_value_counts(nodes_df, None)"
   ]
  },
  {
   "cell_type": "code",
   "execution_count": null,
   "id": "f9776787",
   "metadata": {},
   "outputs": [],
   "source": []
  }
 ],
 "metadata": {
  "kernelspec": {
   "display_name": "Python 3 (ipykernel)",
   "language": "python",
   "name": "python3"
  },
  "language_info": {
   "codemirror_mode": {
    "name": "ipython",
    "version": 3
   },
   "file_extension": ".py",
   "mimetype": "text/x-python",
   "name": "python",
   "nbconvert_exporter": "python",
   "pygments_lexer": "ipython3",
   "version": "3.10.4"
  }
 },
 "nbformat": 4,
 "nbformat_minor": 5
}
