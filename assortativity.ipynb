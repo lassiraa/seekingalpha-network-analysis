{
 "cells": [
  {
   "cell_type": "markdown",
   "id": "433ec754-53aa-40e8-8439-cc82cbec6ae3",
   "metadata": {},
   "source": [
    "# Assortativity of SA network\n",
    "\n",
    "In this section we will look at different assortativities found within the SeekingAlpha network. Firstly, degree assortativities will be focused on. After this, attribute assortativities will be looked at to discover which attributes affect, how companies tend to be discussed together."
   ]
  },
  {
   "cell_type": "code",
   "execution_count": 1,
   "id": "15a937fc-f0a1-4e89-be69-d5443bdf54ff",
   "metadata": {},
   "outputs": [],
   "source": [
    "import networkx as nx\n",
    "import numpy as np\n",
    "import matplotlib.pyplot as plt\n",
    "import matplotlib.colors as mcolors\n",
    "import seaborn as sns"
   ]
  },
  {
   "cell_type": "markdown",
   "id": "922d5dc6-f196-40fc-b113-ddfbf934dd85",
   "metadata": {},
   "source": [
    "Reading SeekingAlpha network:"
   ]
  },
  {
   "cell_type": "code",
   "execution_count": 2,
   "id": "59403617-ad1d-4659-883e-1335bbd7bc47",
   "metadata": {},
   "outputs": [],
   "source": [
    "G = nx.read_gexf('SA.gexf')"
   ]
  },
  {
   "cell_type": "markdown",
   "id": "8bf49c9f-f53c-463d-a328-f985d2cb5e0e",
   "metadata": {},
   "source": [
    "First we can look at the degree assortativity of the network alongside the degree assortativity coefficient."
   ]
  },
  {
   "cell_type": "code",
   "execution_count": 3,
   "id": "4a724f8a-78dc-4c78-ba6d-69f189a66d64",
   "metadata": {},
   "outputs": [
    {
     "name": "stderr",
     "output_type": "stream",
     "text": [
      "C:\\Users\\lassi\\AppData\\Local\\Temp/ipykernel_19684/452010441.py:5: RuntimeWarning: invalid value encountered in true_divide\n",
      "  P_kk = e_ij/e_ij.sum(axis=1)\n",
      "C:\\Users\\lassi\\AppData\\Local\\Temp/ipykernel_19684/452010441.py:8: RuntimeWarning: invalid value encountered in true_divide\n",
      "  P_kk_rand = q_k.T.dot(q_k)/ q_k\n"
     ]
    },
    {
     "data": {
      "image/png": "[encoded data removed]",
      "text/plain": [
       "<Figure size 432x288 with 1 Axes>"
      ]
     },
     "metadata": {
      "needs_background": "light"
     },
     "output_type": "display_data"
    }
   ],
   "source": [
    "degrees = [degree for _, degree in G.degree()]\n",
    "k_max = max(degrees)\n",
    "e_ij = nx.degree_mixing_matrix(G, mapping={x: x for x in range(k_max +1)}, normalized=True)\n",
    "k = np.arange(k_max+1)\n",
    "P_kk = e_ij/e_ij.sum(axis=1)\n",
    "k_nn = k.dot(P_kk)\n",
    "q_k = e_ij.sum(axis=1).reshape(1, -1)\n",
    "P_kk_rand = q_k.T.dot(q_k)/ q_k\n",
    "k_nn_rand = k.dot(P_kk_rand)\n",
    "k_nn_rand_exp = sum([degree**2 for degree in degrees]) / sum(degrees)\n",
    "\n",
    "r = nx.degree_assortativity_coefficient(G)\n",
    "plt.scatter(k, k_nn, label='SA network')\n",
    "plt.axhline(k_nn_rand_exp, c='r')\n",
    "plt.scatter(k, k_nn_rand, c='k', s=5, label='Neutral')\n",
    "plt.loglog()\n",
    "plt.legend(loc='upper left')\n",
    "plt.title(fr'Degree assortativity for SA network $r={r:.2f}$')\n",
    "plt.show()"
   ]
  },
  {
   "cell_type": "markdown",
   "id": "6504a277-a237-4d56-92a7-33906ac7b2a2",
   "metadata": {},
   "source": [
    "The results seem to indicate a positive correlation in the degree assortativity coefficient, which means that frequently discussed companies tend to be discussed alongside other highly discussed companies. This is sensible, as popular companies tend to be most often compared to other big ticket companies.\n",
    "\n",
    "Now after seeing this another question arises quickly. Are there some attribute assortativities that exist within the network? Initial thought is that companies from the same sector are likely discussed with each other."
   ]
  },
  {
   "cell_type": "code",
   "execution_count": 4,
   "id": "caaf3a08-cee4-4545-a8e0-8638a28bcc60",
   "metadata": {},
   "outputs": [
    {
     "name": "stdout",
     "output_type": "stream",
     "text": [
      "\n",
      "Sector correlation: 0.603\n",
      "Ebitda correlation: 7.5e-07\n",
      "Market cap correlation: 4.5e-06\n",
      "\n"
     ]
    }
   ],
   "source": [
    "r_sector = nx.attribute_assortativity_coefficient(G, \"sector\")\n",
    "r_ebitda = nx.numeric_assortativity_coefficient(G, \"ebitda\")\n",
    "r_mcap = nx.numeric_assortativity_coefficient(G, \"market_cap\")\n",
    "print(f\"\"\"\n",
    "Sector correlation: {r_sector:.3}\n",
    "Ebitda correlation: {r_ebitda:.3}\n",
    "Market cap correlation: {r_mcap:.3}\n",
    "\"\"\")"
   ]
  },
  {
   "cell_type": "markdown",
   "id": "ad27c90f-beea-41d7-b21d-a59dc374846e",
   "metadata": {},
   "source": [
    "Now it seems like sector is the only attribute that has a clear correlation, so we can visualize that to further investigate what information could be extracted from that."
   ]
  },
  {
   "cell_type": "code",
   "execution_count": 5,
   "id": "21e80ff1-2619-4ec9-9c67-b5714faca0c0",
   "metadata": {},
   "outputs": [
    {
     "data": {
      "image/png": "[encoded data removed]",
      "text/plain": [
       "<Figure size 504x504 with 2 Axes>"
      ]
     },
     "metadata": {
      "needs_background": "light"
     },
     "output_type": "display_data"
    }
   ],
   "source": [
    "unique_sectors = np.unique(list(dict(G.nodes(data='sector')).values()))\n",
    "sector_to_num = {\n",
    "    sector: i for i, sector in enumerate(unique_sectors)\n",
    "}\n",
    "sector_mix_mat = nx.attribute_mixing_matrix(G, 'sector', mapping=sector_to_num)\n",
    "plt.figure(figsize=(7,7))\n",
    "sns.heatmap(sector_mix_mat, square=True, cmap='Purples', norm=mcolors.LogNorm())\n",
    "plt.gca().invert_yaxis()\n",
    "plt.gca().set_title(fr'Probabilities of sector connections, $r={r_sector:.3f}$')\n",
    "plt.show()"
   ]
  },
  {
   "cell_type": "markdown",
   "id": "69dafea9-eeee-49da-944f-993f425e5a5a",
   "metadata": {},
   "source": [
    "Now when visualized the high sector assortativity is clear also when by simply looking at the mixing matrix. From this we can also see that the highest assortativity is with 3, 7, and 10 sector values. These can be checked using the sector_to_num dictionary:"
   ]
  },
  {
   "cell_type": "code",
   "execution_count": 6,
   "id": "8351ba5e-a18b-438c-a64b-86eeb227a30d",
   "metadata": {},
   "outputs": [
    {
     "name": "stdout",
     "output_type": "stream",
     "text": [
      ": 0\n",
      "Basic Materials: 1\n",
      "Communication Services: 2\n",
      "Consumer Cyclical: 3\n",
      "Consumer Defensive: 4\n",
      "Energy: 5\n",
      "Financial Services: 6\n",
      "Healthcare: 7\n",
      "Industrials: 8\n",
      "Real Estate: 9\n",
      "Technology: 10\n",
      "Utilities: 11\n"
     ]
    }
   ],
   "source": [
    "for sector_name, sector_id in sector_to_num.items():\n",
    "    print(f'{sector_name}: {sector_id}')"
   ]
  },
  {
   "cell_type": "markdown",
   "id": "b485e5e8-955b-45cc-bba4-4ff486264e0c",
   "metadata": {},
   "source": [
    "Now interestingly the highest assortativity is found with Consumer Cyclical, Healthcare, and Technology sectors. These are also the most represented sectors within the communities found within the notebook discussing community discovery. Especially technology and healthcare sectors are predominantly represented within the two largest Louvain communities. Also the high assortativity that is seen between the technology and communication services is something that is present, as it is in the largest Louvain group found in the community discovery section.\n",
    "\n",
    "One further question that could be interesting is to see whether posting profit/loss is a factor that correlation between connections. So are e.g., net-loss speculative investment mostly discussed with each other, or is there perhaps even a negative correlation?"
   ]
  },
  {
   "cell_type": "code",
   "execution_count": 7,
   "id": "927c8f00-276a-46db-8103-ac1d8910b436",
   "metadata": {},
   "outputs": [
    {
     "data": {
      "image/png": "[encoded data removed]",
      "text/plain": [
       "<Figure size 504x504 with 2 Axes>"
      ]
     },
     "metadata": {
      "needs_background": "light"
     },
     "output_type": "display_data"
    }
   ],
   "source": [
    "profitable = {\n",
    "    node: ebitda > 0 for node, ebitda in G.nodes(data='ebitda')\n",
    "}\n",
    "nx.set_node_attributes(G, profitable, 'profitable')\n",
    "profitable_map = {True: 1, False: 0}\n",
    "r_profitable = nx.numeric_assortativity_coefficient(G, 'profitable')\n",
    "sector_mix_mat = nx.attribute_mixing_matrix(G, 'profitable', mapping=profitable_map)\n",
    "plt.figure(figsize=(7,7))\n",
    "sns.heatmap(sector_mix_mat, square=True, cmap='Purples')\n",
    "plt.gca().invert_yaxis()\n",
    "plt.gca().set_title(fr'Probabilities of profitability connections, $r={r_profitable:.3f}$')\n",
    "plt.show()"
   ]
  },
  {
   "cell_type": "markdown",
   "id": "8687b143-4aab-4b30-87f7-a8dfe7401580",
   "metadata": {},
   "source": [
    "While the visual does not show much in terms of assortativity, the correlation coefficient is rather high suggesting there is one. The reason for this is the imbalance in the profitable/loss-making companies in the data. The actual differences between randomly formed connections and the realised connections can be shown as follows:"
   ]
  },
  {
   "cell_type": "code",
   "execution_count": 8,
   "id": "fe03deca-b40d-4e72-8f7d-8cc9ea25fed0",
   "metadata": {},
   "outputs": [
    {
     "name": "stdout",
     "output_type": "stream",
     "text": [
      "\n",
      "Profitable-to-profitable connection random vs. realised: 0.57 vs. 0.69\n",
      "Loss-to-loss connection random vs. realised: 0.061 vs. 0.075\n",
      "\n"
     ]
    }
   ],
   "source": [
    "amt_profitable = len([_ for is_profitable in profitable.values() if is_profitable])\n",
    "amt_loss = len(profitable) - amt_profitable\n",
    "print(f\"\"\"\n",
    "Profitable-to-profitable connection random vs. realised: {(amt_profitable / len(profitable))**2:.2} vs. {sector_mix_mat[1,1]:.2}\n",
    "Loss-to-loss connection random vs. realised: {(amt_loss / len(profitable))**2:.2} vs. {sector_mix_mat[0,0]:.2}\n",
    "\"\"\")"
   ]
  },
  {
   "cell_type": "markdown",
   "id": "228d519a-e864-4786-9175-e9ed28f500ec",
   "metadata": {},
   "source": [
    "Thus it does seem quite clear that there is also a clear attribute assortativity with this as well in the network. This could be due to safer investments generally being contrasted to other safe investments, while more speculative investments can be often contrasted to other similar investments. This can also be due to the beforehand visualized sector assortativity, as some sectors contain more loss-making companies, while some mostly consist of profitable companies. Example of this is the technology/healthcare fields, which are full of speculative loss leaders."
   ]
  },
  {
   "cell_type": "code",
   "execution_count": null,
   "id": "84d75ef6-d0bd-4ae7-b8df-58be697b2a72",
   "metadata": {},
   "outputs": [],
   "source": []
  }
 ],
 "metadata": {
  "kernelspec": {
   "display_name": "Python 3 (ipykernel)",
   "language": "python",
   "name": "python3"
  },
  "language_info": {
   "codemirror_mode": {
    "name": "ipython",
    "version": 3
   },
   "file_extension": ".py",
   "mimetype": "text/x-python",
   "name": "python",
   "nbconvert_exporter": "python",
   "pygments_lexer": "ipython3",
   "version": "3.9.7"
  }
 },
 "nbformat": 4,
 "nbformat_minor": 5
}
